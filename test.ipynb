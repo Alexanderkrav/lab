{
  "cells": [
    {
      "cell_type": "code",
      "execution_count": null,
      "id": "4b56c3a4-f711-4b5a-85d0-7075780643fe",
      "metadata": {
        "tags": [],
        "id": "4b56c3a4-f711-4b5a-85d0-7075780643fe",
        "outputId": "b1b9bd9d-dd3b-41d0-9403-c93c21573ed2"
      },
      "outputs": [
        {
          "data": {
            "text/plain": [
              "4"
            ]
          },
          "execution_count": 1,
          "metadata": {},
          "output_type": "execute_result"
        }
      ],
      "source": [
        "2+2"
      ]
    },
    {
      "cell_type": "code",
      "source": [
        "3+3\n"
      ],
      "metadata": {
        "id": "VuB3VNs4AMaS",
        "outputId": "6a2c25d2-9d45-49aa-fbc4-c8c13693e11c",
        "colab": {
          "base_uri": "https://localhost:8080/"
        }
      },
      "id": "VuB3VNs4AMaS",
      "execution_count": 2,
      "outputs": [
        {
          "output_type": "execute_result",
          "data": {
            "text/plain": [
              "6"
            ]
          },
          "metadata": {},
          "execution_count": 2
        }
      ]
    }
  ],
  "metadata": {
    "kernelspec": {
      "display_name": "Python 3 (ipykernel)",
      "language": "python",
      "name": "python3"
    },
    "language_info": {
      "codemirror_mode": {
        "name": "ipython",
        "version": 3
      },
      "file_extension": ".py",
      "mimetype": "text/x-python",
      "name": "python",
      "nbconvert_exporter": "python",
      "pygments_lexer": "ipython3",
      "version": "3.11.4"
    },
    "colab": {
      "provenance": []
    }
  },
  "nbformat": 4,
  "nbformat_minor": 5
}